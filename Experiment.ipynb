{
  "nbformat": 4,
  "nbformat_minor": 0,
  "metadata": {
    "colab": {
      "provenance": [],
      "authorship_tag": "ABX9TyOIhbebzAmrRWwRVTU10CiZ",
      "include_colab_link": true
    },
    "kernelspec": {
      "name": "python3",
      "display_name": "Python 3"
    },
    "language_info": {
      "name": "python"
    }
  },
  "cells": [
    {
      "cell_type": "markdown",
      "metadata": {
        "id": "view-in-github",
        "colab_type": "text"
      },
      "source": [
        "<a href=\"https://colab.research.google.com/github/syjoe02/Krx-Bench/blob/main/Experiment.ipynb\" target=\"_parent\"><img src=\"https://colab.research.google.com/assets/colab-badge.svg\" alt=\"Open In Colab\"/></a>"
      ]
    },
    {
      "cell_type": "code",
      "execution_count": 4,
      "metadata": {
        "id": "wQTeYwEWFMVc"
      },
      "outputs": [],
      "source": [
        "from google.colab import files\n",
        "import pandas as pd\n",
        "import glob"
      ]
    },
    {
      "cell_type": "code",
      "source": [
        "# Combine QFRHistorical File\n",
        "files = glob.glob(\"QFRHistorical*.xls\")"
      ],
      "metadata": {
        "id": "ll0doJuxGnIu"
      },
      "execution_count": 5,
      "outputs": []
    },
    {
      "cell_type": "code",
      "source": [
        "all_dataframes = []\n",
        "\n",
        "for file in files:\n",
        "  df = pd.read_excel(file)\n",
        "  all_dataframes.append(df)\n",
        "\n",
        "combined_data = pd.concat(all_dataframes, ignore_index=True)"
      ],
      "metadata": {
        "id": "MR3WsWPcH4OH"
      },
      "execution_count": 6,
      "outputs": []
    },
    {
      "cell_type": "code",
      "source": [
        "print(combined_data.head())"
      ],
      "metadata": {
        "colab": {
          "base_uri": "https://localhost:8080/"
        },
        "id": "Ns4OwvPJIctQ",
        "outputId": "a07bedf9-768c-4b29-80ac-b24226827111"
      },
      "execution_count": 7,
      "outputs": [
        {
          "output_type": "stream",
          "name": "stdout",
          "text": [
            "  QUARTERLY FINANCIAL REPORT   \\\n",
            "0    Historical Data File Key   \n",
            "1                         NaN   \n",
            "2             Special Notice:   \n",
            "3                         NaN   \n",
            "4          Spreadsheet Format   \n",
            "\n",
            "                                          Unnamed: 1 Unnamed: 2 Unnamed: 3  \\\n",
            "0                                                NaN        NaN        NaN   \n",
            "1                                                NaN        NaN        NaN   \n",
            "2  The most recent four quarters of data provided...        NaN        NaN   \n",
            "3                                                NaN        NaN        NaN   \n",
            "4                                                NaN        NaN        NaN   \n",
            "\n",
            "        Unnamed: 4  Unnamed: 5  Unnamed: 6 Unnamed: 7  \\\n",
            "0  NaN         NaN         NaN         NaN        NaN   \n",
            "1  NaN         NaN         NaN         NaN        NaN   \n",
            "2  NaN         NaN         NaN         NaN        NaN   \n",
            "3  NaN         NaN         NaN         NaN        NaN   \n",
            "4  NaN         NaN         NaN         NaN        NaN   \n",
            "\n",
            "                                                                                                                                                                                                                                                                                                                                                                                                                                                                                                                                                                                                                                                                                                                                                                                                                                                                                                                                                                                                                                                                                                                                                           \n",
            "0                                                NaN                                                                                                                                                                                                                                                                                                                                                                                                                                                                                                                                                                                                                                                                                                                                                                                                                                                                                                                                                                                                                                                                                                       \n",
            "1                                                NaN                                                                                                                                                                                                                                                                                                                                                                                                                                                                                                                                                                                                                                                                                                                                                                                                                                                                                                                                                                                                                                                                                                       \n",
            "2                                                NaN                                                                                                                                                                                                                                                                                                                                                                                                                                                                                                                                                                                                                                                                                                                                                                                                                                                                                                                                                                                                                                                                                                       \n",
            "3                                                NaN                                                                                                                                                                                                                                                                                                                                                                                                                                                                                                                                                                                                                                                                                                                                                                                                                                                                                                                                                                                                                                                                                                       \n",
            "4                                                NaN                                                                                                                                                                                                                                                                                                                                                                                                                                                                                                                                                                                                                                                                                                                                                                                                                                                                                                                                                                                                                                                                                                       \n"
          ]
        }
      ]
    },
    {
      "cell_type": "code",
      "source": [
        "print(combined_data.tail())"
      ],
      "metadata": {
        "colab": {
          "base_uri": "https://localhost:8080/"
        },
        "id": "c_cuaHITIjHJ",
        "outputId": "9c6cbaad-94b9-4c21-86c5-04ec322928a1"
      },
      "execution_count": 8,
      "outputs": [
        {
          "output_type": "stream",
          "name": "stdout",
          "text": [
            "      QUARTERLY FINANCIAL REPORT                           Unnamed: 1  \\\n",
            "11463                         NaN                                 NaN   \n",
            "11464                         NaN                                 NaN   \n",
            "11465                      ¹               Long format data item only   \n",
            "11466                      ²        Long format data item description   \n",
            "11467                      ³       Short format data item description   \n",
            "\n",
            "      Unnamed: 2 Unnamed: 3       Unnamed: 4  Unnamed: 5  Unnamed: 6  \\\n",
            "11463        NaN        NaN  NaN         NaN         NaN         NaN   \n",
            "11464        NaN        NaN  NaN         NaN         NaN         NaN   \n",
            "11465        NaN        NaN  NaN         NaN         NaN         NaN   \n",
            "11466        NaN        NaN  NaN         NaN         NaN         NaN   \n",
            "11467        NaN        NaN  NaN         NaN         NaN         NaN   \n",
            "\n",
            "      Unnamed: 7  \\\n",
            "11463        NaN   \n",
            "11464        NaN   \n",
            "11465        NaN   \n",
            "11466        NaN   \n",
            "11467        NaN   \n",
            "\n",
            "                                                                                                                                                                                                                                                                                                                                                                                                                                                                                                                                                                                                                                                                                                                                                                                                                                                                                                                                                                                                                                                                                                                                                               \n",
            "11463                                                NaN                                                                                                                                                                                                                                                                                                                                                                                                                                                                                                                                                                                                                                                                                                                                                                                                                                                                                                                                                                                                                                                                                                       \n",
            "11464                                                NaN                                                                                                                                                                                                                                                                                                                                                                                                                                                                                                                                                                                                                                                                                                                                                                                                                                                                                                                                                                                                                                                                                                       \n",
            "11465                                                NaN                                                                                                                                                                                                                                                                                                                                                                                                                                                                                                                                                                                                                                                                                                                                                                                                                                                                                                                                                                                                                                                                                                       \n",
            "11466                                                NaN                                                                                                                                                                                                                                                                                                                                                                                                                                                                                                                                                                                                                                                                                                                                                                                                                                                                                                                                                                                                                                                                                                       \n",
            "11467                                                NaN                                                                                                                                                                                                                                                                                                                                                                                                                                                                                                                                                                                                                                                                                                                                                                                                                                                                                                                                                                                                                                                                                                       \n"
          ]
        }
      ]
    }
  ]
}